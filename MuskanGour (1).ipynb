{
  "nbformat": 4,
  "nbformat_minor": 0,
  "metadata": {
    "colab": {
      "name": "MuskanGour.ipynb",
      "provenance": [],
      "collapsed_sections": []
    },
    "kernelspec": {
      "display_name": "Python 3",
      "name": "python3"
    },
    "language_info": {
      "name": "python"
    }
  },
  "cells": [
    {
      "cell_type": "code",
      "metadata": {
        "id": "I2_V_b_OpJPf"
      },
      "source": [
        "import numpy as np\n",
        "import pandas as pd\n",
        "import matplotlib.pyplot as plt\n",
        "import seaborn as sb\n",
        "%matplotlib inline"
      ],
      "execution_count": null,
      "outputs": []
    },
    {
      "cell_type": "code",
      "metadata": {
        "colab": {
          "base_uri": "https://localhost:8080/",
          "height": 615
        },
        "id": "sV6Hua14rW9J",
        "outputId": "a71672dd-6d3e-4b60-ad5c-e6032b3348cd"
      },
      "source": [
        "pokemon = pd.read_csv('/content/pokemon.csv')\n",
        "print(pokemon.shape)\n",
        "pokemon.head()"
      ],
      "execution_count": 37,
      "outputs": [
        {
          "output_type": "stream",
          "text": [
            "(10683, 11)\n"
          ],
          "name": "stdout"
        },
        {
          "output_type": "execute_result",
          "data": {
            "text/html": [
              "<div>\n",
              "<style scoped>\n",
              "    .dataframe tbody tr th:only-of-type {\n",
              "        vertical-align: middle;\n",
              "    }\n",
              "\n",
              "    .dataframe tbody tr th {\n",
              "        vertical-align: top;\n",
              "    }\n",
              "\n",
              "    .dataframe thead th {\n",
              "        text-align: right;\n",
              "    }\n",
              "</style>\n",
              "<table border=\"1\" class=\"dataframe\">\n",
              "  <thead>\n",
              "    <tr style=\"text-align: right;\">\n",
              "      <th></th>\n",
              "      <th>Airline</th>\n",
              "      <th>Date_of_Journey</th>\n",
              "      <th>Source</th>\n",
              "      <th>Destination</th>\n",
              "      <th>Route</th>\n",
              "      <th>Dep_Time</th>\n",
              "      <th>Arrival_Time</th>\n",
              "      <th>Duration(minutes)</th>\n",
              "      <th>Total_Stops</th>\n",
              "      <th>Additional_Info</th>\n",
              "      <th>Price</th>\n",
              "    </tr>\n",
              "  </thead>\n",
              "  <tbody>\n",
              "    <tr>\n",
              "      <th>0</th>\n",
              "      <td>IndiGo</td>\n",
              "      <td>24/03/2019</td>\n",
              "      <td>Banglore</td>\n",
              "      <td>New Delhi</td>\n",
              "      <td>BLR → DEL</td>\n",
              "      <td>22:20</td>\n",
              "      <td>01:10 22 Mar</td>\n",
              "      <td>170</td>\n",
              "      <td>0</td>\n",
              "      <td>No info</td>\n",
              "      <td>3897</td>\n",
              "    </tr>\n",
              "    <tr>\n",
              "      <th>1</th>\n",
              "      <td>Air India</td>\n",
              "      <td>1/05/2019</td>\n",
              "      <td>Kolkata</td>\n",
              "      <td>Banglore</td>\n",
              "      <td>CCU → IXR → BBI → BLR</td>\n",
              "      <td>05:50</td>\n",
              "      <td>13:15</td>\n",
              "      <td>445</td>\n",
              "      <td>2</td>\n",
              "      <td>No info</td>\n",
              "      <td>7662</td>\n",
              "    </tr>\n",
              "    <tr>\n",
              "      <th>2</th>\n",
              "      <td>Jet Airways</td>\n",
              "      <td>9/06/2019</td>\n",
              "      <td>Delhi</td>\n",
              "      <td>Cochin</td>\n",
              "      <td>DEL → LKO → BOM → COK</td>\n",
              "      <td>09:25</td>\n",
              "      <td>04:25 10 Jun</td>\n",
              "      <td>1140</td>\n",
              "      <td>2</td>\n",
              "      <td>No info</td>\n",
              "      <td>13882</td>\n",
              "    </tr>\n",
              "    <tr>\n",
              "      <th>3</th>\n",
              "      <td>IndiGo</td>\n",
              "      <td>12/05/2019</td>\n",
              "      <td>Kolkata</td>\n",
              "      <td>Banglore</td>\n",
              "      <td>CCU → NAG → BLR</td>\n",
              "      <td>18:05</td>\n",
              "      <td>23:30</td>\n",
              "      <td>325</td>\n",
              "      <td>1</td>\n",
              "      <td>No info</td>\n",
              "      <td>6218</td>\n",
              "    </tr>\n",
              "    <tr>\n",
              "      <th>4</th>\n",
              "      <td>IndiGo</td>\n",
              "      <td>01/03/2019</td>\n",
              "      <td>Banglore</td>\n",
              "      <td>New Delhi</td>\n",
              "      <td>BLR → NAG → DEL</td>\n",
              "      <td>16:50</td>\n",
              "      <td>21:35</td>\n",
              "      <td>285</td>\n",
              "      <td>1</td>\n",
              "      <td>No info</td>\n",
              "      <td>13302</td>\n",
              "    </tr>\n",
              "  </tbody>\n",
              "</table>\n",
              "</div>"
            ],
            "text/plain": [
              "       Airline Date_of_Journey    Source  ... Total_Stops Additional_Info  Price\n",
              "0       IndiGo      24/03/2019  Banglore  ...           0         No info   3897\n",
              "1    Air India       1/05/2019   Kolkata  ...           2         No info   7662\n",
              "2  Jet Airways       9/06/2019     Delhi  ...           2         No info  13882\n",
              "3       IndiGo      12/05/2019   Kolkata  ...           1         No info   6218\n",
              "4       IndiGo      01/03/2019  Banglore  ...           1         No info  13302\n",
              "\n",
              "[5 rows x 11 columns]"
            ]
          },
          "metadata": {
            "tags": []
          },
          "execution_count": 37
        }
      ]
    },
    {
      "cell_type": "code",
      "metadata": {
        "colab": {
          "base_uri": "https://localhost:8080/",
          "height": 296
        },
        "id": "q7WTLD37vZYC",
        "outputId": "09dfc5b3-fd37-4d27-e926-92fbc3d35735"
      },
      "source": [
        "sb.countplot(data=pokemon,x='Source')"
      ],
      "execution_count": null,
      "outputs": [
        {
          "output_type": "execute_result",
          "data": {
            "text/plain": [
              "<matplotlib.axes._subplots.AxesSubplot at 0x7f86c7fa4c50>"
            ]
          },
          "metadata": {
            "tags": []
          },
          "execution_count": 13
        },
        {
          "output_type": "display_data",
          "data": {
            "image/png": "[encoded data removed]",
            "text/plain": [
              "<Figure size 432x288 with 1 Axes>"
            ]
          },
          "metadata": {
            "tags": []
          }
        }
      ]
    },
    {
      "cell_type": "markdown",
      "metadata": {
        "id": "M8FmWIlXvaII"
      },
      "source": [
        ""
      ]
    },
    {
      "cell_type": "code",
      "metadata": {
        "colab": {
          "base_uri": "https://localhost:8080/",
          "height": 296
        },
        "id": "0PtJHUFGvave",
        "outputId": "c2d8fb23-64f6-4058-e240-241401357577"
      },
      "source": [
        "base_color = sb.color_palette()[2]\n",
        "sb.countplot(data = pokemon, x= 'Source', color = base_color)"
      ],
      "execution_count": null,
      "outputs": [
        {
          "output_type": "execute_result",
          "data": {
            "text/plain": [
              "<matplotlib.axes._subplots.AxesSubplot at 0x7f86c791a250>"
            ]
          },
          "metadata": {
            "tags": []
          },
          "execution_count": 16
        },
        {
          "output_type": "display_data",
          "data": {
            "image/png": "[encoded data removed]",
            "text/plain": [
              "<Figure size 432x288 with 1 Axes>"
            ]
          },
          "metadata": {
            "tags": []
          }
        }
      ]
    },
    {
      "cell_type": "code",
      "metadata": {
        "colab": {
          "base_uri": "https://localhost:8080/",
          "height": 296
        },
        "id": "1LP114dN00Ar",
        "outputId": "8fd025ac-7546-4a47-ea25-fc2eecb4f8cf"
      },
      "source": [
        "base_color=sb.color_palette()[1]\n",
        "Dep_Time=pokemon['Source'].value_counts().index\n",
        "sb.countplot(data = pokemon, x = 'Source', color= base_color, order= Dep_Time)"
      ],
      "execution_count": null,
      "outputs": [
        {
          "output_type": "execute_result",
          "data": {
            "text/plain": [
              "<matplotlib.axes._subplots.AxesSubplot at 0x7f86c7913850>"
            ]
          },
          "metadata": {
            "tags": []
          },
          "execution_count": 18
        },
        {
          "output_type": "display_data",
          "data": {
            "image/png": "[encoded data removed]",
            "text/plain": [
              "<Figure size 432x288 with 1 Axes>"
            ]
          },
          "metadata": {
            "tags": []
          }
        }
      ]
    },
    {
      "cell_type": "code",
      "metadata": {
        "colab": {
          "base_uri": "https://localhost:8080/"
        },
        "id": "frYqLmKe3MFu",
        "outputId": "7296817a-52c4-4435-f90c-791f926415dc"
      },
      "source": [
        "base_color=sb.color_palette()[1]\n",
        "Dep_Time=pokemon['Source'].value_counts()\n",
        "print(Dep_Time)"
      ],
      "execution_count": null,
      "outputs": [
        {
          "output_type": "stream",
          "text": [
            "Delhi       4537\n",
            "Kolkata     2871\n",
            "Banglore    2197\n",
            "Mumbai       697\n",
            "Chennai      381\n",
            "Name: Source, dtype: int64\n"
          ],
          "name": "stdout"
        }
      ]
    },
    {
      "cell_type": "code",
      "metadata": {
        "colab": {
          "background_save": true,
          "base_uri": "https://localhost:8080/",
          "height": 297
        },
        "id": "jaSgChsN3on1",
        "outputId": "9504b9e9-0350-4dc0-c814-0c581497d21d"
      },
      "source": [
        "base_color = sb.color_palette()[2]\n",
        "sb.countplot(data = pokemon,x = 'Airline', color=base_color)"
      ],
      "execution_count": null,
      "outputs": [
        {
          "output_type": "execute_result",
          "data": {
            "text/plain": [
              "<matplotlib.axes._subplots.AxesSubplot at 0x7f86c71076d0>"
            ]
          },
          "metadata": {
            "tags": []
          },
          "execution_count": 0
        },
        {
          "output_type": "display_data",
          "data": {
            "image/png": "[encoded data removed]",
            "text/plain": [
              "<Figure size 432x288 with 1 Axes>"
            ]
          },
          "metadata": {
            "tags": []
          }
        }
      ]
    },
    {
      "cell_type": "code",
      "metadata": {
        "id": "wG__YJC94Q39",
        "colab": {
          "base_uri": "https://localhost:8080/",
          "height": 482
        },
        "outputId": "67020483-a433-45f8-bcec-168fe498cfe6"
      },
      "source": [
        "base_color = sb.color_palette()[2]\n",
        "sb.countplot(data = pokemon,x = 'Airline', color=base_color)\n",
        "plt.xticks(rotation=90)"
      ],
      "execution_count": 24,
      "outputs": [
        {
          "output_type": "execute_result",
          "data": {
            "text/plain": [
              "(array([ 0,  1,  2,  3,  4,  5,  6,  7,  8,  9, 10, 11]),\n",
              " <a list of 12 Text major ticklabel objects>)"
            ]
          },
          "metadata": {
            "tags": []
          },
          "execution_count": 24
        },
        {
          "output_type": "display_data",
          "data": {
            "image/png": "[encoded data removed]",
            "text/plain": [
              "<Figure size 432x288 with 1 Axes>"
            ]
          },
          "metadata": {
            "tags": [],
            "needs_background": "light"
          }
        }
      ]
    },
    {
      "cell_type": "code",
      "metadata": {
        "colab": {
          "base_uri": "https://localhost:8080/",
          "height": 329
        },
        "id": "Bsbj9q1C6F58",
        "outputId": "6f335ac8-74b5-4407-a59f-8a91dc4e5c99"
      },
      "source": [
        "base_color = sb.color_palette()[2]\n",
        "sb.countplot(data = pokemon,y = 'Airline', color=base_color)\n",
        "plt.xticks(rotation=90)"
      ],
      "execution_count": 28,
      "outputs": [
        {
          "output_type": "execute_result",
          "data": {
            "text/plain": [
              "(array([   0.,  500., 1000., 1500., 2000., 2500., 3000., 3500., 4000.,\n",
              "        4500.]), <a list of 10 Text major ticklabel objects>)"
            ]
          },
          "metadata": {
            "tags": []
          },
          "execution_count": 28
        },
        {
          "output_type": "display_data",
          "data": {
            "image/png": "[encoded data removed]",
            "text/plain": [
              "<Figure size 432x288 with 1 Axes>"
            ]
          },
          "metadata": {
            "tags": [],
            "needs_background": "light"
          }
        }
      ]
    },
    {
      "cell_type": "code",
      "metadata": {
        "colab": {
          "base_uri": "https://localhost:8080/",
          "height": 439
        },
        "id": "Gl846lfk6kef",
        "outputId": "cd8d5a9b-85fd-4630-fa58-94facff8fda8"
      },
      "source": [
        "pokemon.isna()"
      ],
      "execution_count": 29,
      "outputs": [
        {
          "output_type": "execute_result",
          "data": {
            "text/html": [
              "<div>\n",
              "<style scoped>\n",
              "    .dataframe tbody tr th:only-of-type {\n",
              "        vertical-align: middle;\n",
              "    }\n",
              "\n",
              "    .dataframe tbody tr th {\n",
              "        vertical-align: top;\n",
              "    }\n",
              "\n",
              "    .dataframe thead th {\n",
              "        text-align: right;\n",
              "    }\n",
              "</style>\n",
              "<table border=\"1\" class=\"dataframe\">\n",
              "  <thead>\n",
              "    <tr style=\"text-align: right;\">\n",
              "      <th></th>\n",
              "      <th>Airline</th>\n",
              "      <th>Date_of_Journey</th>\n",
              "      <th>Source</th>\n",
              "      <th>Destination</th>\n",
              "      <th>Route</th>\n",
              "      <th>Dep_Time</th>\n",
              "      <th>Arrival_Time</th>\n",
              "      <th>Duration(minutes)</th>\n",
              "      <th>Total_Stops</th>\n",
              "      <th>Additional_Info</th>\n",
              "      <th>Price</th>\n",
              "    </tr>\n",
              "  </thead>\n",
              "  <tbody>\n",
              "    <tr>\n",
              "      <th>0</th>\n",
              "      <td>False</td>\n",
              "      <td>False</td>\n",
              "      <td>False</td>\n",
              "      <td>False</td>\n",
              "      <td>False</td>\n",
              "      <td>False</td>\n",
              "      <td>False</td>\n",
              "      <td>False</td>\n",
              "      <td>False</td>\n",
              "      <td>False</td>\n",
              "      <td>False</td>\n",
              "    </tr>\n",
              "    <tr>\n",
              "      <th>1</th>\n",
              "      <td>False</td>\n",
              "      <td>False</td>\n",
              "      <td>False</td>\n",
              "      <td>False</td>\n",
              "      <td>False</td>\n",
              "      <td>False</td>\n",
              "      <td>False</td>\n",
              "      <td>False</td>\n",
              "      <td>False</td>\n",
              "      <td>False</td>\n",
              "      <td>False</td>\n",
              "    </tr>\n",
              "    <tr>\n",
              "      <th>2</th>\n",
              "      <td>False</td>\n",
              "      <td>False</td>\n",
              "      <td>False</td>\n",
              "      <td>False</td>\n",
              "      <td>False</td>\n",
              "      <td>False</td>\n",
              "      <td>False</td>\n",
              "      <td>False</td>\n",
              "      <td>False</td>\n",
              "      <td>False</td>\n",
              "      <td>False</td>\n",
              "    </tr>\n",
              "    <tr>\n",
              "      <th>3</th>\n",
              "      <td>False</td>\n",
              "      <td>False</td>\n",
              "      <td>False</td>\n",
              "      <td>False</td>\n",
              "      <td>False</td>\n",
              "      <td>False</td>\n",
              "      <td>False</td>\n",
              "      <td>False</td>\n",
              "      <td>False</td>\n",
              "      <td>False</td>\n",
              "      <td>False</td>\n",
              "    </tr>\n",
              "    <tr>\n",
              "      <th>4</th>\n",
              "      <td>False</td>\n",
              "      <td>False</td>\n",
              "      <td>False</td>\n",
              "      <td>False</td>\n",
              "      <td>False</td>\n",
              "      <td>False</td>\n",
              "      <td>False</td>\n",
              "      <td>False</td>\n",
              "      <td>False</td>\n",
              "      <td>False</td>\n",
              "      <td>False</td>\n",
              "    </tr>\n",
              "    <tr>\n",
              "      <th>...</th>\n",
              "      <td>...</td>\n",
              "      <td>...</td>\n",
              "      <td>...</td>\n",
              "      <td>...</td>\n",
              "      <td>...</td>\n",
              "      <td>...</td>\n",
              "      <td>...</td>\n",
              "      <td>...</td>\n",
              "      <td>...</td>\n",
              "      <td>...</td>\n",
              "      <td>...</td>\n",
              "    </tr>\n",
              "    <tr>\n",
              "      <th>10678</th>\n",
              "      <td>False</td>\n",
              "      <td>False</td>\n",
              "      <td>False</td>\n",
              "      <td>False</td>\n",
              "      <td>False</td>\n",
              "      <td>False</td>\n",
              "      <td>False</td>\n",
              "      <td>False</td>\n",
              "      <td>False</td>\n",
              "      <td>False</td>\n",
              "      <td>False</td>\n",
              "    </tr>\n",
              "    <tr>\n",
              "      <th>10679</th>\n",
              "      <td>False</td>\n",
              "      <td>False</td>\n",
              "      <td>False</td>\n",
              "      <td>False</td>\n",
              "      <td>False</td>\n",
              "      <td>False</td>\n",
              "      <td>False</td>\n",
              "      <td>False</td>\n",
              "      <td>False</td>\n",
              "      <td>False</td>\n",
              "      <td>False</td>\n",
              "    </tr>\n",
              "    <tr>\n",
              "      <th>10680</th>\n",
              "      <td>False</td>\n",
              "      <td>False</td>\n",
              "      <td>False</td>\n",
              "      <td>False</td>\n",
              "      <td>False</td>\n",
              "      <td>False</td>\n",
              "      <td>False</td>\n",
              "      <td>False</td>\n",
              "      <td>False</td>\n",
              "      <td>False</td>\n",
              "      <td>False</td>\n",
              "    </tr>\n",
              "    <tr>\n",
              "      <th>10681</th>\n",
              "      <td>False</td>\n",
              "      <td>False</td>\n",
              "      <td>False</td>\n",
              "      <td>False</td>\n",
              "      <td>False</td>\n",
              "      <td>False</td>\n",
              "      <td>False</td>\n",
              "      <td>False</td>\n",
              "      <td>False</td>\n",
              "      <td>False</td>\n",
              "      <td>False</td>\n",
              "    </tr>\n",
              "    <tr>\n",
              "      <th>10682</th>\n",
              "      <td>False</td>\n",
              "      <td>False</td>\n",
              "      <td>False</td>\n",
              "      <td>False</td>\n",
              "      <td>False</td>\n",
              "      <td>False</td>\n",
              "      <td>False</td>\n",
              "      <td>False</td>\n",
              "      <td>False</td>\n",
              "      <td>False</td>\n",
              "      <td>False</td>\n",
              "    </tr>\n",
              "  </tbody>\n",
              "</table>\n",
              "<p>10683 rows × 11 columns</p>\n",
              "</div>"
            ],
            "text/plain": [
              "       Airline  Date_of_Journey  Source  ...  Total_Stops  Additional_Info  Price\n",
              "0        False            False   False  ...        False            False  False\n",
              "1        False            False   False  ...        False            False  False\n",
              "2        False            False   False  ...        False            False  False\n",
              "3        False            False   False  ...        False            False  False\n",
              "4        False            False   False  ...        False            False  False\n",
              "...        ...              ...     ...  ...          ...              ...    ...\n",
              "10678    False            False   False  ...        False            False  False\n",
              "10679    False            False   False  ...        False            False  False\n",
              "10680    False            False   False  ...        False            False  False\n",
              "10681    False            False   False  ...        False            False  False\n",
              "10682    False            False   False  ...        False            False  False\n",
              "\n",
              "[10683 rows x 11 columns]"
            ]
          },
          "metadata": {
            "tags": []
          },
          "execution_count": 29
        }
      ]
    },
    {
      "cell_type": "code",
      "metadata": {
        "colab": {
          "base_uri": "https://localhost:8080/"
        },
        "id": "Sd37Gsgd69pb",
        "outputId": "fbb80c1e-fbe4-467f-fca1-59c30ae2ed2b"
      },
      "source": [
        "pokemon.isna().sum()"
      ],
      "execution_count": 30,
      "outputs": [
        {
          "output_type": "execute_result",
          "data": {
            "text/plain": [
              "Airline               0\n",
              "Date_of_Journey       0\n",
              "Source                0\n",
              "Destination           0\n",
              "Route                16\n",
              "Dep_Time              0\n",
              "Arrival_Time          0\n",
              "Duration(minutes)     0\n",
              "Total_Stops          27\n",
              "Additional_Info       0\n",
              "Price                 0\n",
              "dtype: int64"
            ]
          },
          "metadata": {
            "tags": []
          },
          "execution_count": 30
        }
      ]
    },
    {
      "cell_type": "code",
      "metadata": {
        "colab": {
          "base_uri": "https://localhost:8080/"
        },
        "id": "Z_LMMDlq81X4",
        "outputId": "75f3a334-7693-4e41-ca12-f41d9979bc21"
      },
      "source": [
        "pokemon.isna().sum().index"
      ],
      "execution_count": 32,
      "outputs": [
        {
          "output_type": "execute_result",
          "data": {
            "text/plain": [
              "Index(['Airline', 'Date_of_Journey', 'Source', 'Destination', 'Route',\n",
              "       'Dep_Time', 'Arrival_Time', 'Duration(minutes)', 'Total_Stops',\n",
              "       'Additional_Info', 'Price'],\n",
              "      dtype='object')"
            ]
          },
          "metadata": {
            "tags": []
          },
          "execution_count": 32
        }
      ]
    },
    {
      "cell_type": "code",
      "metadata": {
        "colab": {
          "base_uri": "https://localhost:8080/",
          "height": 401
        },
        "id": "7pEN8jAN7GpE",
        "outputId": "0eddf7d1-c707-4aa2-ad24-9676d46e1fe6"
      },
      "source": [
        "na_counts = pokemon.isna().sum()\n",
        "base_color = sb.color_palette()[0]\n",
        "sb.barplot(na_counts.index.values,na_counts,color=base_color)\n",
        "plt.xticks(rotation=90);"
      ],
      "execution_count": 31,
      "outputs": [
        {
          "output_type": "stream",
          "text": [
            "/usr/local/lib/python3.7/dist-packages/seaborn/_decorators.py:43: FutureWarning: Pass the following variables as keyword args: x, y. From version 0.12, the only valid positional argument will be `data`, and passing other arguments without an explicit keyword will result in an error or misinterpretation.\n",
            "  FutureWarning\n"
          ],
          "name": "stderr"
        },
        {
          "output_type": "display_data",
          "data": {
            "image/png": "[encoded data removed]",
            "text/plain": [
              "<Figure size 432x288 with 1 Axes>"
            ]
          },
          "metadata": {
            "tags": [],
            "needs_background": "light"
          }
        }
      ]
    },
    {
      "cell_type": "code",
      "metadata": {
        "colab": {
          "base_uri": "https://localhost:8080/",
          "height": 248
        },
        "id": "k_5hALdX89e9",
        "outputId": "8d71e67e-fb67-4ac2-c35e-f6ff0c3835a6"
      },
      "source": [
        "sorted_counts = pokemon['Source'].value_counts()\n",
        "plt.pie(sorted_counts, labels = sorted_counts.index , startangle = 90, counterclock = False);\n",
        "plt.axis('square');"
      ],
      "execution_count": 53,
      "outputs": [
        {
          "output_type": "display_data",
          "data": {
            "image/png": "[encoded data removed]",
            "text/plain": [
              "<Figure size 432x288 with 1 Axes>"
            ]
          },
          "metadata": {
            "tags": []
          }
        }
      ]
    },
    {
      "cell_type": "code",
      "metadata": {
        "colab": {
          "base_uri": "https://localhost:8080/",
          "height": 248
        },
        "id": "MmD9Z9Iw_vJi",
        "outputId": "9e536cdb-e8a2-4eb0-cefa-d3d8f2933400"
      },
      "source": [
        "sorted_counts = pokemon['Source'].value_counts()\n",
        "plt.pie(sorted_counts, labels = sorted_counts.index , startangle = 90, counterclock = False,wedgeprops={'width':0.4});\n",
        "plt.axis('square');"
      ],
      "execution_count": 54,
      "outputs": [
        {
          "output_type": "display_data",
          "data": {
            "image/png": "[encoded data removed]",
            "text/plain": [
              "<Figure size 432x288 with 1 Axes>"
            ]
          },
          "metadata": {
            "tags": []
          }
        }
      ]
    },
    {
      "cell_type": "code",
      "metadata": {
        "colab": {
          "base_uri": "https://localhost:8080/",
          "height": 350
        },
        "id": "UGzlnScLDoyS",
        "outputId": "7fb46b8f-94bf-47fc-d1da-063225f77ce3"
      },
      "source": [
        "plt.hist(data=pokemon,x='Dep_Time')"
      ],
      "execution_count": 60,
      "outputs": [
        {
          "output_type": "execute_result",
          "data": {
            "text/plain": [
              "(array([2029., 1564., 1700., 1163., 1453., 1316.,  735.,  417.,  225.,\n",
              "          81.]),\n",
              " array([  0. ,  22.1,  44.2,  66.3,  88.4, 110.5, 132.6, 154.7, 176.8,\n",
              "        198.9, 221. ]),\n",
              " <a list of 10 Patch objects>)"
            ]
          },
          "metadata": {
            "tags": []
          },
          "execution_count": 60
        },
        {
          "output_type": "display_data",
          "data": {
            "image/png": "[encoded data removed]",
            "text/plain": [
              "<Figure size 432x288 with 1 Axes>"
            ]
          },
          "metadata": {
            "tags": [],
            "needs_background": "light"
          }
        }
      ]
    },
    {
      "cell_type": "code",
      "metadata": {
        "colab": {
          "base_uri": "https://localhost:8080/",
          "height": 401
        },
        "id": "7zTURMk7EXcH",
        "outputId": "36a4c3e4-5467-4452-f656-ee8103388c90"
      },
      "source": [
        "plt.hist(data=pokemon,x='Duration(minutes)',bins = 20)"
      ],
      "execution_count": 74,
      "outputs": [
        {
          "output_type": "execute_result",
          "data": {
            "text/plain": [
              "(array([3.491e+03, 7.070e+02, 9.720e+02, 1.016e+03, 8.600e+02, 8.600e+02,\n",
              "        4.920e+02, 2.950e+02, 4.390e+02, 4.920e+02, 5.000e+02, 3.450e+02,\n",
              "        1.050e+02, 2.700e+01, 1.600e+01, 5.400e+01, 7.000e+00, 3.000e+00,\n",
              "        0.000e+00, 2.000e+00]),\n",
              " array([  75.  ,  214.25,  353.5 ,  492.75,  632.  ,  771.25,  910.5 ,\n",
              "        1049.75, 1189.  , 1328.25, 1467.5 , 1606.75, 1746.  , 1885.25,\n",
              "        2024.5 , 2163.75, 2303.  , 2442.25, 2581.5 , 2720.75, 2860.  ]),\n",
              " <a list of 20 Patch objects>)"
            ]
          },
          "metadata": {
            "tags": []
          },
          "execution_count": 74
        },
        {
          "output_type": "display_data",
          "data": {
            "image/png": "[encoded data removed]",
            "text/plain": [
              "<Figure size 432x288 with 1 Axes>"
            ]
          },
          "metadata": {
            "tags": [],
            "needs_background": "light"
          }
        }
      ]
    },
    {
      "cell_type": "code",
      "metadata": {
        "colab": {
          "base_uri": "https://localhost:8080/",
          "height": 1000
        },
        "id": "MXGaX5E5EvYM",
        "outputId": "34b060d7-5ec8-4482-8e0d-25b4efed6091"
      },
      "source": [
        "bins = np.arange(0,pokemon['Duration(minutes)'].max()+1,5)\n",
        "plt.hist(data=pokemon,x='Duration(minutes)',bins = bins)\n",
        "\n"
      ],
      "execution_count": 73,
      "outputs": [
        {
          "output_type": "execute_result",
          "data": {
            "text/plain": [
              "(array([  0.,   0.,   0.,   0.,   0.,   0.,   0.,   0.,   0.,   0.,   0.,\n",
              "          0.,   0.,   0.,   0.,  24.,  61., 135., 386.,  15.,   0.,   0.,\n",
              "          0.,   0.,   0.,   0.,   0., 135., 238.,  98., 220., 329., 158.,\n",
              "        337., 550., 337., 261.,  78.,  40.,  88.,   0.,   1.,   0.,   5.,\n",
              "         23.,   0.,   3.,   2.,  12.,   8.,   1.,   4.,   3.,  19.,  35.,\n",
              "         21.,  23.,  10.,  35.,  51.,  64.,  38.,  27.,  62.,  45.,  31.,\n",
              "         72.,  25.,  21.,  54.,  13.,  30.,  26.,  29.,  25.,  47.,  29.,\n",
              "         37.,  38.,  60.,  23.,   7.,   2.,  17.,  21.,  65.,   2.,  79.,\n",
              "         52.,   5.,  86.,  71.,  27.,  31.,  24.,  24.,  68.,  17.,  30.,\n",
              "         20.,  34.,  50.,  36.,  25.,  81.,  13.,   8.,  42.,  64.,  29.,\n",
              "         26.,  42.,  41.,  13.,  85.,  41.,  10.,  28.,  64.,   2.,  49.,\n",
              "          5.,  23.,  50.,  29.,  49.,  57.,  17.,  29.,  14.,  13.,  20.,\n",
              "         62.,  45.,   2.,  36.,   7.,  24.,  52.,  11.,  20.,  62.,  23.,\n",
              "         21.,  49.,  19.,  57.,  48.,  31.,  36.,  52.,  31.,  20.,  56.,\n",
              "          3.,  26.,  42.,   5.,  14.,  36.,  89.,  36.,  97.,   1.,   3.,\n",
              "         21.,  35.,  28.,  36.,  42.,  14.,  11.,  31.,  61.,  29.,  38.,\n",
              "          9.,  19.,  21.,  26.,  30.,   9.,  51.,  12.,  35.,  35.,  33.,\n",
              "          7.,  24.,   8.,   5.,  19.,  19.,  53.,  16.,  28.,   9.,   9.,\n",
              "          3.,  11.,   7.,  33.,  24.,  22.,   0.,  40.,   2.,   7.,  11.,\n",
              "         20.,   8.,  10.,   5.,  12.,   3.,  11.,  13.,   0.,  17.,   3.,\n",
              "         33.,  17.,   7.,   3.,   3.,  36.,   7.,   2.,   9.,  15.,   7.,\n",
              "         10.,   2.,  26.,  14.,   2.,  12.,   8.,   1.,  28.,  22.,   2.,\n",
              "         41.,  17.,  19.,  16.,   0.,  12.,   2.,   8.,   2.,  21.,   6.,\n",
              "         12.,  12.,  39.,  19.,  30.,   4.,  35.,  18.,   8.,   4.,   9.,\n",
              "         27.,  25.,  18.,  17.,   0.,  11.,  22.,  15.,   4.,  22.,   0.,\n",
              "         57.,  24.,  11.,  22.,  30.,  14.,   4.,  30.,  23.,  40.,  21.,\n",
              "         37.,   9.,  27.,   4.,  16.,   7.,   3.,   4.,  20.,  23.,  17.,\n",
              "         30.,  22.,  24.,  12.,  14.,   3.,   9.,  17.,   9.,  21.,  14.,\n",
              "         13.,  35.,  20.,  19.,  27.,   3.,  29.,   9.,  29.,   8.,  16.,\n",
              "         39.,  14.,   4.,  19.,  44.,  32.,  21.,  17.,   0.,  34.,   2.,\n",
              "          1.,  38.,  15.,  15.,   3.,   1.,  11.,  12.,   4.,   7.,  22.,\n",
              "          5.,   1.,   0.,   5.,   0.,  25.,   2.,   0.,   9.,   1.,   0.,\n",
              "         28.,   0.,   1.,  12.,   1.,   0.,   5.,   8.,   3.,   0.,   1.,\n",
              "          1.,  14.,   1.,  15.,   0.,   7.,   2.,   0.,   5.,   0.,   0.,\n",
              "          0.,   0.,   0.,   0.,   1.,   0.,   2.,   0.,   1.,   2.,   0.,\n",
              "          5.,   0.,   0.,   1.,   0.,   2.,   0.,   0.,   0.,   0.,   1.,\n",
              "          0.,   0.,   0.,  11.,   1.,   0.,   0.,   0.,   0.,   1.,   0.,\n",
              "          0.,   2.,   2.,   0.,   0.,   0.,   2.,   2.,   0.,   0.,   0.,\n",
              "          0.,   0.,   0.,   3.,   0.,   2.,   1.,   0.,   0.,   1.,   0.,\n",
              "          0.,   0.,   0.,   0.,   0.,   6.,   0.,   0.,   1.,   0.,   0.,\n",
              "          0.,   0.,   0.,   0.,   0.,   0.,   1.,   0.,   8.,   8.,   0.,\n",
              "          0.,   0.,   0.,   0.,   0.,  13.,   0.,   0.,  12.,   5.,   0.,\n",
              "          0.,   4.,   0.,   0.,   0.,   0.,   0.,   2.,   0.,   0.,   0.,\n",
              "          0.,   0.,   0.,   0.,   0.,   0.,   0.,   0.,   0.,   0.,   0.,\n",
              "          1.,   0.,   0.,   0.,   0.,   0.,   0.,   0.,   0.,   0.,   0.,\n",
              "          0.,   1.,   0.,   0.,   0.,   0.,   0.,   0.,   0.,   0.,   1.,\n",
              "          0.,   0.,   0.,   0.,   0.,   0.,   0.,   1.,   0.,   0.,   0.,\n",
              "          0.,   0.,   0.,   0.,   0.,   0.,   0.,   0.,   0.,   0.,   0.,\n",
              "          0.,   0.,   0.,   0.,   0.,   0.,   0.,   0.,   0.,   0.,   0.,\n",
              "          0.,   0.,   0.,   0.,   0.,   0.,   0.,   0.,   0.,   0.,   0.,\n",
              "          0.,   0.,   0.,   0.,   0.,   0.,   0.,   0.,   0.,   0.,   0.,\n",
              "          0.,   0.,   0.,   1.,   0.,   0.,   0.,   0.,   0.,   0.,   1.]),\n",
              " array([   0,    5,   10,   15,   20,   25,   30,   35,   40,   45,   50,\n",
              "          55,   60,   65,   70,   75,   80,   85,   90,   95,  100,  105,\n",
              "         110,  115,  120,  125,  130,  135,  140,  145,  150,  155,  160,\n",
              "         165,  170,  175,  180,  185,  190,  195,  200,  205,  210,  215,\n",
              "         220,  225,  230,  235,  240,  245,  250,  255,  260,  265,  270,\n",
              "         275,  280,  285,  290,  295,  300,  305,  310,  315,  320,  325,\n",
              "         330,  335,  340,  345,  350,  355,  360,  365,  370,  375,  380,\n",
              "         385,  390,  395,  400,  405,  410,  415,  420,  425,  430,  435,\n",
              "         440,  445,  450,  455,  460,  465,  470,  475,  480,  485,  490,\n",
              "         495,  500,  505,  510,  515,  520,  525,  530,  535,  540,  545,\n",
              "         550,  555,  560,  565,  570,  575,  580,  585,  590,  595,  600,\n",
              "         605,  610,  615,  620,  625,  630,  635,  640,  645,  650,  655,\n",
              "         660,  665,  670,  675,  680,  685,  690,  695,  700,  705,  710,\n",
              "         715,  720,  725,  730,  735,  740,  745,  750,  755,  760,  765,\n",
              "         770,  775,  780,  785,  790,  795,  800,  805,  810,  815,  820,\n",
              "         825,  830,  835,  840,  845,  850,  855,  860,  865,  870,  875,\n",
              "         880,  885,  890,  895,  900,  905,  910,  915,  920,  925,  930,\n",
              "         935,  940,  945,  950,  955,  960,  965,  970,  975,  980,  985,\n",
              "         990,  995, 1000, 1005, 1010, 1015, 1020, 1025, 1030, 1035, 1040,\n",
              "        1045, 1050, 1055, 1060, 1065, 1070, 1075, 1080, 1085, 1090, 1095,\n",
              "        1100, 1105, 1110, 1115, 1120, 1125, 1130, 1135, 1140, 1145, 1150,\n",
              "        1155, 1160, 1165, 1170, 1175, 1180, 1185, 1190, 1195, 1200, 1205,\n",
              "        1210, 1215, 1220, 1225, 1230, 1235, 1240, 1245, 1250, 1255, 1260,\n",
              "        1265, 1270, 1275, 1280, 1285, 1290, 1295, 1300, 1305, 1310, 1315,\n",
              "        1320, 1325, 1330, 1335, 1340, 1345, 1350, 1355, 1360, 1365, 1370,\n",
              "        1375, 1380, 1385, 1390, 1395, 1400, 1405, 1410, 1415, 1420, 1425,\n",
              "        1430, 1435, 1440, 1445, 1450, 1455, 1460, 1465, 1470, 1475, 1480,\n",
              "        1485, 1490, 1495, 1500, 1505, 1510, 1515, 1520, 1525, 1530, 1535,\n",
              "        1540, 1545, 1550, 1555, 1560, 1565, 1570, 1575, 1580, 1585, 1590,\n",
              "        1595, 1600, 1605, 1610, 1615, 1620, 1625, 1630, 1635, 1640, 1645,\n",
              "        1650, 1655, 1660, 1665, 1670, 1675, 1680, 1685, 1690, 1695, 1700,\n",
              "        1705, 1710, 1715, 1720, 1725, 1730, 1735, 1740, 1745, 1750, 1755,\n",
              "        1760, 1765, 1770, 1775, 1780, 1785, 1790, 1795, 1800, 1805, 1810,\n",
              "        1815, 1820, 1825, 1830, 1835, 1840, 1845, 1850, 1855, 1860, 1865,\n",
              "        1870, 1875, 1880, 1885, 1890, 1895, 1900, 1905, 1910, 1915, 1920,\n",
              "        1925, 1930, 1935, 1940, 1945, 1950, 1955, 1960, 1965, 1970, 1975,\n",
              "        1980, 1985, 1990, 1995, 2000, 2005, 2010, 2015, 2020, 2025, 2030,\n",
              "        2035, 2040, 2045, 2050, 2055, 2060, 2065, 2070, 2075, 2080, 2085,\n",
              "        2090, 2095, 2100, 2105, 2110, 2115, 2120, 2125, 2130, 2135, 2140,\n",
              "        2145, 2150, 2155, 2160, 2165, 2170, 2175, 2180, 2185, 2190, 2195,\n",
              "        2200, 2205, 2210, 2215, 2220, 2225, 2230, 2235, 2240, 2245, 2250,\n",
              "        2255, 2260, 2265, 2270, 2275, 2280, 2285, 2290, 2295, 2300, 2305,\n",
              "        2310, 2315, 2320, 2325, 2330, 2335, 2340, 2345, 2350, 2355, 2360,\n",
              "        2365, 2370, 2375, 2380, 2385, 2390, 2395, 2400, 2405, 2410, 2415,\n",
              "        2420, 2425, 2430, 2435, 2440, 2445, 2450, 2455, 2460, 2465, 2470,\n",
              "        2475, 2480, 2485, 2490, 2495, 2500, 2505, 2510, 2515, 2520, 2525,\n",
              "        2530, 2535, 2540, 2545, 2550, 2555, 2560, 2565, 2570, 2575, 2580,\n",
              "        2585, 2590, 2595, 2600, 2605, 2610, 2615, 2620, 2625, 2630, 2635,\n",
              "        2640, 2645, 2650, 2655, 2660, 2665, 2670, 2675, 2680, 2685, 2690,\n",
              "        2695, 2700, 2705, 2710, 2715, 2720, 2725, 2730, 2735, 2740, 2745,\n",
              "        2750, 2755, 2760, 2765, 2770, 2775, 2780, 2785, 2790, 2795, 2800,\n",
              "        2805, 2810, 2815, 2820, 2825, 2830, 2835, 2840, 2845, 2850, 2855,\n",
              "        2860]),\n",
              " <a list of 572 Patch objects>)"
            ]
          },
          "metadata": {
            "tags": []
          },
          "execution_count": 73
        },
        {
          "output_type": "display_data",
          "data": {
            "image/png": "[encoded data removed]",
            "text/plain": [
              "<Figure size 432x288 with 1 Axes>"
            ]
          },
          "metadata": {
            "tags": [],
            "needs_background": "light"
          }
        }
      ]
    },
    {
      "cell_type": "code",
      "metadata": {
        "colab": {
          "base_uri": "https://localhost:8080/",
          "height": 320
        },
        "id": "DVTAulhFHWPL",
        "outputId": "51f9b3ec-3201-4d01-b601-0cfedefc3e0a"
      },
      "source": [
        "plt.figure(figsize=[10,5])\n",
        "plt.subplot(1,2,1)\n",
        "bin_edges = np.arange(0,pokemon['Duration(minutes)'].max()+1,+5)\n",
        "plt.hist(data = pokemon,x='Duration(minutes)',bins=bin_edges);\n",
        "plt.subplot(1,2,2)\n",
        "bin_edges=np.arange(0,pokemon['Duration(minutes)'].max()++1,1)\n",
        "plt.hist(data=pokemon,x='Duration(minutes)',bins=bin_edges);"
      ],
      "execution_count": 85,
      "outputs": [
        {
          "output_type": "display_data",
          "data": {
            "image/png": "[encoded data removed]",
            "text/plain": [
              "<Figure size 720x360 with 2 Axes>"
            ]
          },
          "metadata": {
            "tags": [],
            "needs_background": "light"
          }
        }
      ]
    },
    {
      "cell_type": "code",
      "metadata": {
        "colab": {
          "base_uri": "https://localhost:8080/",
          "height": 333
        },
        "id": "RF2HcQBhJ4io",
        "outputId": "83ea1c73-e4ee-4edf-8d99-8c1c8e8231ca"
      },
      "source": [
        "sb.distplot(pokemon['Price']);"
      ],
      "execution_count": 83,
      "outputs": [
        {
          "output_type": "stream",
          "text": [
            "/usr/local/lib/python3.7/dist-packages/seaborn/distributions.py:2557: FutureWarning: `distplot` is a deprecated function and will be removed in a future version. Please adapt your code to use either `displot` (a figure-level function with similar flexibility) or `histplot` (an axes-level function for histograms).\n",
            "  warnings.warn(msg, FutureWarning)\n"
          ],
          "name": "stderr"
        },
        {
          "output_type": "display_data",
          "data": {
            "image/png": "[encoded data removed]",
            "text/plain": [
              "<Figure size 432x288 with 1 Axes>"
            ]
          },
          "metadata": {
            "tags": [],
            "needs_background": "light"
          }
        }
      ]
    },
    {
      "cell_type": "code",
      "metadata": {
        "colab": {
          "base_uri": "https://localhost:8080/",
          "height": 333
        },
        "id": "c-5X435lLAng",
        "outputId": "d8fcc30e-018b-46ea-9673-9ec0c104b8f4"
      },
      "source": [
        "sb.distplot(pokemon['Price'],kde=False);"
      ],
      "execution_count": 86,
      "outputs": [
        {
          "output_type": "stream",
          "text": [
            "/usr/local/lib/python3.7/dist-packages/seaborn/distributions.py:2557: FutureWarning: `distplot` is a deprecated function and will be removed in a future version. Please adapt your code to use either `displot` (a figure-level function with similar flexibility) or `histplot` (an axes-level function for histograms).\n",
            "  warnings.warn(msg, FutureWarning)\n"
          ],
          "name": "stderr"
        },
        {
          "output_type": "display_data",
          "data": {
            "image/png": "[encoded data removed]",
            "text/plain": [
              "<Figure size 432x288 with 1 Axes>"
            ]
          },
          "metadata": {
            "tags": [],
            "needs_background": "light"
          }
        }
      ]
    },
    {
      "cell_type": "code",
      "metadata": {
        "colab": {
          "base_uri": "https://localhost:8080/",
          "height": 333
        },
        "id": "Hlf5FsCDLjvp",
        "outputId": "cdb84d18-9402-4dc8-b51b-1f8701033929"
      },
      "source": [
        "bin_edges=np.arange(0,pokemon['Duration(minutes)'].max()+1,5)\n",
        "sb.distplot(pokemon['Duration(minutes)'],bins=bin_edges,kde=False,hist_kws={'alpha':0.5});"
      ],
      "execution_count": 94,
      "outputs": [
        {
          "output_type": "stream",
          "text": [
            "/usr/local/lib/python3.7/dist-packages/seaborn/distributions.py:2557: FutureWarning: `distplot` is a deprecated function and will be removed in a future version. Please adapt your code to use either `displot` (a figure-level function with similar flexibility) or `histplot` (an axes-level function for histograms).\n",
            "  warnings.warn(msg, FutureWarning)\n"
          ],
          "name": "stderr"
        },
        {
          "output_type": "display_data",
          "data": {
            "image/png": "[encoded data removed]",
            "text/plain": [
              "<Figure size 432x288 with 1 Axes>"
            ]
          },
          "metadata": {
            "tags": [],
            "needs_background": "light"
          }
        }
      ]
    }
  ]
}